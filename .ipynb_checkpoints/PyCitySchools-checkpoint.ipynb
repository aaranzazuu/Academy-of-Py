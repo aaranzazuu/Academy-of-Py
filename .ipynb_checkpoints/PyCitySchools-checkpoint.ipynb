{
 "cells": [
  {
   "cell_type": "code",
   "execution_count": 115,
   "metadata": {},
   "outputs": [],
   "source": [
    "#Dependencies and setup\n",
    "import pandas as pd"
   ]
  },
  {
   "cell_type": "code",
   "execution_count": 116,
   "metadata": {},
   "outputs": [],
   "source": [
    "# File to Load\n",
    "school_data_to_load = \"../pandas-challenge/PyCitySchools/Resources/04-Pandas_HW_Instructions_PyCitySchools_Resources_schools_complete.csv\"\n",
    "student_data_to_load = \"../pandas-challenge/PyCitySchools/Resources/04-Pandas_HW_Instructions_PyCitySchools_Resources_students_complete.csv\""
   ]
  },
  {
   "cell_type": "code",
   "execution_count": 117,
   "metadata": {},
   "outputs": [],
   "source": [
    "# Read School and Student Data File and store into Pandas Data Frames\n",
    "school_data = pd.read_csv(school_data_to_load)\n",
    "student_data = pd.read_csv(student_data_to_load)"
   ]
  },
  {
   "cell_type": "code",
   "execution_count": 118,
   "metadata": {},
   "outputs": [],
   "source": [
    "# Combine the data into a single dataset\n",
    "school_data_complete = pd.merge(student_data, school_data, how=\"left\", on=[\"school_name\", \"school_name\"])"
   ]
  },
  {
   "cell_type": "code",
   "execution_count": 182,
   "metadata": {},
   "outputs": [],
   "source": [
    "#Create a list of schools and Calculate Total Schools\n",
    "schools_list = school_data_complete[\"school_name\"].unique()\n",
    "total_schools = len(schools_list)"
   ]
  },
  {
   "cell_type": "code",
   "execution_count": 183,
   "metadata": {},
   "outputs": [],
   "source": [
    "#Calculate Total Students\n",
    "total_students = school_data_complete[\"Student ID\"].count()"
   ]
  },
  {
   "cell_type": "code",
   "execution_count": 184,
   "metadata": {},
   "outputs": [],
   "source": [
    "#Calculate Total Budget\n",
    "grouped_school = school_data_complete.groupby([\"school_name\"])\n",
    "total_budget_unique = grouped_school[\"budget\"].unique()\n",
    "total_budget = \"${0:,.2f}\".format(int(total_budget_unique.sum()))"
   ]
  },
  {
   "cell_type": "code",
   "execution_count": 175,
   "metadata": {},
   "outputs": [],
   "source": [
    "#Average Scores\n",
    "#Math\n",
    "average_math = school_data_complete[\"math_score\"].mean()\n",
    "#Reading\n",
    "average_reading = school_data_complete[\"reading_score\"].mean()"
   ]
  },
  {
   "cell_type": "code",
   "execution_count": 185,
   "metadata": {},
   "outputs": [],
   "source": [
    "#Overall Passing Rate\n",
    "overall_passing = \"{0:,.2f}%\".format((average_math + average_reading)/2)"
   ]
  },
  {
   "cell_type": "code",
   "execution_count": 186,
   "metadata": {},
   "outputs": [],
   "source": [
    "#Percentage Passing Scores\n",
    "#Math\n",
    "total_passing_math = school_data_complete[school_data_complete[\"math_score\"] >= 70].count()\n",
    "percentage_math = \"{0:,.2f}%\".format(total_passing_math[\"Student ID\"]*100/total_students)\n",
    "#Reading\n",
    "total_passing_reading = school_data_complete[school_data_complete[\"reading_score\"] >= 70].count()\n",
    "percentage_reading = \"{0:,.2f}%\".format(total_passing_reading[\"Student ID\"]*100/total_students)"
   ]
  },
  {
   "cell_type": "code",
   "execution_count": 188,
   "metadata": {},
   "outputs": [
    {
     "data": {
      "text/html": [
       "<div>\n",
       "<style scoped>\n",
       "    .dataframe tbody tr th:only-of-type {\n",
       "        vertical-align: middle;\n",
       "    }\n",
       "\n",
       "    .dataframe tbody tr th {\n",
       "        vertical-align: top;\n",
       "    }\n",
       "\n",
       "    .dataframe thead th {\n",
       "        text-align: right;\n",
       "    }\n",
       "</style>\n",
       "<table border=\"1\" class=\"dataframe\">\n",
       "  <thead>\n",
       "    <tr style=\"text-align: right;\">\n",
       "      <th></th>\n",
       "      <th>Total Schools</th>\n",
       "      <th>Total Students</th>\n",
       "      <th>Total Budget</th>\n",
       "      <th>Average Math Score</th>\n",
       "      <th>Average Reading Score</th>\n",
       "      <th>%Passing Math</th>\n",
       "      <th>%Passing Reading</th>\n",
       "      <th>%Overall Passing Rate</th>\n",
       "    </tr>\n",
       "  </thead>\n",
       "  <tbody>\n",
       "    <tr>\n",
       "      <th>0</th>\n",
       "      <td>15</td>\n",
       "      <td>39170</td>\n",
       "      <td>$24,649,428.00</td>\n",
       "      <td>78.99</td>\n",
       "      <td>81.88</td>\n",
       "      <td>74.98%</td>\n",
       "      <td>85.81%</td>\n",
       "      <td>80.43%</td>\n",
       "    </tr>\n",
       "  </tbody>\n",
       "</table>\n",
       "</div>"
      ],
      "text/plain": [
       "   Total Schools  Total Students    Total Budget  Average Math Score  \\\n",
       "0             15           39170  $24,649,428.00               78.99   \n",
       "\n",
       "   Average Reading Score %Passing Math %Passing Reading %Overall Passing Rate  \n",
       "0                  81.88        74.98%           85.81%                80.43%  "
      ]
     },
     "execution_count": 188,
     "metadata": {},
     "output_type": "execute_result"
    }
   ],
   "source": [
    "#District Summary\n",
    "district_summary = pd.DataFrame({\"Total Schools\": total_schools, \"Total Students\": total_students, \"Total Budget\": total_budget, \"Average Math Score\": average_math, \"Average Reading Score\": average_reading, \"%Passing Math\": percentage_math, \"%Passing Reading\": percentage_reading, \"%Overall Passing Rate\": overall_passing}, index=[0])\n",
    "district_summary"
   ]
  },
  {
   "cell_type": "code",
   "execution_count": null,
   "metadata": {},
   "outputs": [],
   "source": []
  },
  {
   "cell_type": "code",
   "execution_count": null,
   "metadata": {},
   "outputs": [],
   "source": []
  }
 ],
 "metadata": {
  "kernelspec": {
   "display_name": "Python 3",
   "language": "python",
   "name": "python3"
  },
  "language_info": {
   "codemirror_mode": {
    "name": "ipython",
    "version": 3
   },
   "file_extension": ".py",
   "mimetype": "text/x-python",
   "name": "python",
   "nbconvert_exporter": "python",
   "pygments_lexer": "ipython3",
   "version": "3.7.6"
  }
 },
 "nbformat": 4,
 "nbformat_minor": 4
}
